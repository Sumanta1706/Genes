{
  "nbformat": 4,
  "nbformat_minor": 0,
  "metadata": {
    "colab": {
      "name": "HDV-Gene.ipynb",
      "provenance": [],
      "collapsed_sections": [],
      "authorship_tag": "ABX9TyOlQM5/MPAHxQz3Y6k1A7Sn",
      "include_colab_link": true
    },
    "kernelspec": {
      "name": "python3",
      "display_name": "Python 3"
    },
    "language_info": {
      "name": "python"
    }
  },
  "cells": [
    {
      "cell_type": "markdown",
      "metadata": {
        "id": "view-in-github",
        "colab_type": "text"
      },
      "source": [
        "<a href=\"https://colab.research.google.com/github/Sumanta1706/Genes/blob/main/HDV_Gene.ipynb\" target=\"_parent\"><img src=\"https://colab.research.google.com/assets/colab-badge.svg\" alt=\"Open In Colab\"/></a>"
      ]
    },
    {
      "cell_type": "markdown",
      "metadata": {
        "id": "h_zh-R5u-F_R"
      },
      "source": [
        "**Importing the libraries**"
      ]
    },
    {
      "cell_type": "code",
      "metadata": {
        "id": "N_d6wkSwfH8v"
      },
      "source": [
        "import pandas as pd\n",
        "import numpy as np\n",
        "import matplotlib.pyplot as plt"
      ],
      "execution_count": null,
      "outputs": []
    },
    {
      "cell_type": "code",
      "metadata": {
        "colab": {
          "base_uri": "https://localhost:8080/",
          "height": 419
        },
        "id": "oog_I5ohdkw1",
        "outputId": "be0f3d1b-8216-43e0-9460-5da9d0fd9707"
      },
      "source": [
        "dataset = pd.read_excel('gene.xlsx')\n",
        "dataset"
      ],
      "execution_count": null,
      "outputs": [
        {
          "output_type": "execute_result",
          "data": {
            "text/html": [
              "<div>\n",
              "<style scoped>\n",
              "    .dataframe tbody tr th:only-of-type {\n",
              "        vertical-align: middle;\n",
              "    }\n",
              "\n",
              "    .dataframe tbody tr th {\n",
              "        vertical-align: top;\n",
              "    }\n",
              "\n",
              "    .dataframe thead th {\n",
              "        text-align: right;\n",
              "    }\n",
              "</style>\n",
              "<table border=\"1\" class=\"dataframe\">\n",
              "  <thead>\n",
              "    <tr style=\"text-align: right;\">\n",
              "      <th></th>\n",
              "      <th>Genotype</th>\n",
              "      <th>HDV_fitness</th>\n",
              "    </tr>\n",
              "  </thead>\n",
              "  <tbody>\n",
              "    <tr>\n",
              "      <th>0</th>\n",
              "      <td>AATCGGCCTCACAG</td>\n",
              "      <td>0.020744</td>\n",
              "    </tr>\n",
              "    <tr>\n",
              "      <th>1</th>\n",
              "      <td>CGTCGGCTCCGCAG</td>\n",
              "      <td>0.000000</td>\n",
              "    </tr>\n",
              "    <tr>\n",
              "      <th>2</th>\n",
              "      <td>AGTCGTCTTTGGCG</td>\n",
              "      <td>0.025124</td>\n",
              "    </tr>\n",
              "    <tr>\n",
              "      <th>3</th>\n",
              "      <td>AAGGCTCTCTACAC</td>\n",
              "      <td>0.031116</td>\n",
              "    </tr>\n",
              "    <tr>\n",
              "      <th>4</th>\n",
              "      <td>CAGGCGGCTTACAC</td>\n",
              "      <td>0.021991</td>\n",
              "    </tr>\n",
              "    <tr>\n",
              "      <th>...</th>\n",
              "      <td>...</td>\n",
              "      <td>...</td>\n",
              "    </tr>\n",
              "    <tr>\n",
              "      <th>16379</th>\n",
              "      <td>AGGGCGCTCTGGAG</td>\n",
              "      <td>0.000000</td>\n",
              "    </tr>\n",
              "    <tr>\n",
              "      <th>16380</th>\n",
              "      <td>AGGCGTGTTTGCAG</td>\n",
              "      <td>0.027620</td>\n",
              "    </tr>\n",
              "    <tr>\n",
              "      <th>16381</th>\n",
              "      <td>AGGCGTGCTTGCCC</td>\n",
              "      <td>0.029845</td>\n",
              "    </tr>\n",
              "    <tr>\n",
              "      <th>16382</th>\n",
              "      <td>AGTCCTGTTCGGCG</td>\n",
              "      <td>0.000000</td>\n",
              "    </tr>\n",
              "    <tr>\n",
              "      <th>16383</th>\n",
              "      <td>CGTCCGCTTCAGAG</td>\n",
              "      <td>0.000000</td>\n",
              "    </tr>\n",
              "  </tbody>\n",
              "</table>\n",
              "<p>16384 rows × 2 columns</p>\n",
              "</div>"
            ],
            "text/plain": [
              "             Genotype  HDV_fitness\n",
              "0      AATCGGCCTCACAG     0.020744\n",
              "1      CGTCGGCTCCGCAG     0.000000\n",
              "2      AGTCGTCTTTGGCG     0.025124\n",
              "3      AAGGCTCTCTACAC     0.031116\n",
              "4      CAGGCGGCTTACAC     0.021991\n",
              "...               ...          ...\n",
              "16379  AGGGCGCTCTGGAG     0.000000\n",
              "16380  AGGCGTGTTTGCAG     0.027620\n",
              "16381  AGGCGTGCTTGCCC     0.029845\n",
              "16382  AGTCCTGTTCGGCG     0.000000\n",
              "16383  CGTCCGCTTCAGAG     0.000000\n",
              "\n",
              "[16384 rows x 2 columns]"
            ]
          },
          "metadata": {},
          "execution_count": 2
        }
      ]
    },
    {
      "cell_type": "markdown",
      "metadata": {
        "id": "UV6LflMd-skk"
      },
      "source": [
        "**Spliting the Genotype column into 14 unique columns**"
      ]
    },
    {
      "cell_type": "code",
      "metadata": {
        "id": "mBZwX8AednhE"
      },
      "source": [
        "split_column = dataset['Genotype'].apply(lambda x: pd.Series(list(x)))"
      ],
      "execution_count": null,
      "outputs": []
    },
    {
      "cell_type": "code",
      "metadata": {
        "colab": {
          "base_uri": "https://localhost:8080/",
          "height": 419
        },
        "id": "crX53XsednkL",
        "outputId": "ad803e21-e79f-45a8-a295-8a98072c769b"
      },
      "source": [
        "split_column"
      ],
      "execution_count": null,
      "outputs": [
        {
          "output_type": "execute_result",
          "data": {
            "text/html": [
              "<div>\n",
              "<style scoped>\n",
              "    .dataframe tbody tr th:only-of-type {\n",
              "        vertical-align: middle;\n",
              "    }\n",
              "\n",
              "    .dataframe tbody tr th {\n",
              "        vertical-align: top;\n",
              "    }\n",
              "\n",
              "    .dataframe thead th {\n",
              "        text-align: right;\n",
              "    }\n",
              "</style>\n",
              "<table border=\"1\" class=\"dataframe\">\n",
              "  <thead>\n",
              "    <tr style=\"text-align: right;\">\n",
              "      <th></th>\n",
              "      <th>0</th>\n",
              "      <th>1</th>\n",
              "      <th>2</th>\n",
              "      <th>3</th>\n",
              "      <th>4</th>\n",
              "      <th>5</th>\n",
              "      <th>6</th>\n",
              "      <th>7</th>\n",
              "      <th>8</th>\n",
              "      <th>9</th>\n",
              "      <th>10</th>\n",
              "      <th>11</th>\n",
              "      <th>12</th>\n",
              "      <th>13</th>\n",
              "    </tr>\n",
              "  </thead>\n",
              "  <tbody>\n",
              "    <tr>\n",
              "      <th>0</th>\n",
              "      <td>A</td>\n",
              "      <td>A</td>\n",
              "      <td>T</td>\n",
              "      <td>C</td>\n",
              "      <td>G</td>\n",
              "      <td>G</td>\n",
              "      <td>C</td>\n",
              "      <td>C</td>\n",
              "      <td>T</td>\n",
              "      <td>C</td>\n",
              "      <td>A</td>\n",
              "      <td>C</td>\n",
              "      <td>A</td>\n",
              "      <td>G</td>\n",
              "    </tr>\n",
              "    <tr>\n",
              "      <th>1</th>\n",
              "      <td>C</td>\n",
              "      <td>G</td>\n",
              "      <td>T</td>\n",
              "      <td>C</td>\n",
              "      <td>G</td>\n",
              "      <td>G</td>\n",
              "      <td>C</td>\n",
              "      <td>T</td>\n",
              "      <td>C</td>\n",
              "      <td>C</td>\n",
              "      <td>G</td>\n",
              "      <td>C</td>\n",
              "      <td>A</td>\n",
              "      <td>G</td>\n",
              "    </tr>\n",
              "    <tr>\n",
              "      <th>2</th>\n",
              "      <td>A</td>\n",
              "      <td>G</td>\n",
              "      <td>T</td>\n",
              "      <td>C</td>\n",
              "      <td>G</td>\n",
              "      <td>T</td>\n",
              "      <td>C</td>\n",
              "      <td>T</td>\n",
              "      <td>T</td>\n",
              "      <td>T</td>\n",
              "      <td>G</td>\n",
              "      <td>G</td>\n",
              "      <td>C</td>\n",
              "      <td>G</td>\n",
              "    </tr>\n",
              "    <tr>\n",
              "      <th>3</th>\n",
              "      <td>A</td>\n",
              "      <td>A</td>\n",
              "      <td>G</td>\n",
              "      <td>G</td>\n",
              "      <td>C</td>\n",
              "      <td>T</td>\n",
              "      <td>C</td>\n",
              "      <td>T</td>\n",
              "      <td>C</td>\n",
              "      <td>T</td>\n",
              "      <td>A</td>\n",
              "      <td>C</td>\n",
              "      <td>A</td>\n",
              "      <td>C</td>\n",
              "    </tr>\n",
              "    <tr>\n",
              "      <th>4</th>\n",
              "      <td>C</td>\n",
              "      <td>A</td>\n",
              "      <td>G</td>\n",
              "      <td>G</td>\n",
              "      <td>C</td>\n",
              "      <td>G</td>\n",
              "      <td>G</td>\n",
              "      <td>C</td>\n",
              "      <td>T</td>\n",
              "      <td>T</td>\n",
              "      <td>A</td>\n",
              "      <td>C</td>\n",
              "      <td>A</td>\n",
              "      <td>C</td>\n",
              "    </tr>\n",
              "    <tr>\n",
              "      <th>...</th>\n",
              "      <td>...</td>\n",
              "      <td>...</td>\n",
              "      <td>...</td>\n",
              "      <td>...</td>\n",
              "      <td>...</td>\n",
              "      <td>...</td>\n",
              "      <td>...</td>\n",
              "      <td>...</td>\n",
              "      <td>...</td>\n",
              "      <td>...</td>\n",
              "      <td>...</td>\n",
              "      <td>...</td>\n",
              "      <td>...</td>\n",
              "      <td>...</td>\n",
              "    </tr>\n",
              "    <tr>\n",
              "      <th>16379</th>\n",
              "      <td>A</td>\n",
              "      <td>G</td>\n",
              "      <td>G</td>\n",
              "      <td>G</td>\n",
              "      <td>C</td>\n",
              "      <td>G</td>\n",
              "      <td>C</td>\n",
              "      <td>T</td>\n",
              "      <td>C</td>\n",
              "      <td>T</td>\n",
              "      <td>G</td>\n",
              "      <td>G</td>\n",
              "      <td>A</td>\n",
              "      <td>G</td>\n",
              "    </tr>\n",
              "    <tr>\n",
              "      <th>16380</th>\n",
              "      <td>A</td>\n",
              "      <td>G</td>\n",
              "      <td>G</td>\n",
              "      <td>C</td>\n",
              "      <td>G</td>\n",
              "      <td>T</td>\n",
              "      <td>G</td>\n",
              "      <td>T</td>\n",
              "      <td>T</td>\n",
              "      <td>T</td>\n",
              "      <td>G</td>\n",
              "      <td>C</td>\n",
              "      <td>A</td>\n",
              "      <td>G</td>\n",
              "    </tr>\n",
              "    <tr>\n",
              "      <th>16381</th>\n",
              "      <td>A</td>\n",
              "      <td>G</td>\n",
              "      <td>G</td>\n",
              "      <td>C</td>\n",
              "      <td>G</td>\n",
              "      <td>T</td>\n",
              "      <td>G</td>\n",
              "      <td>C</td>\n",
              "      <td>T</td>\n",
              "      <td>T</td>\n",
              "      <td>G</td>\n",
              "      <td>C</td>\n",
              "      <td>C</td>\n",
              "      <td>C</td>\n",
              "    </tr>\n",
              "    <tr>\n",
              "      <th>16382</th>\n",
              "      <td>A</td>\n",
              "      <td>G</td>\n",
              "      <td>T</td>\n",
              "      <td>C</td>\n",
              "      <td>C</td>\n",
              "      <td>T</td>\n",
              "      <td>G</td>\n",
              "      <td>T</td>\n",
              "      <td>T</td>\n",
              "      <td>C</td>\n",
              "      <td>G</td>\n",
              "      <td>G</td>\n",
              "      <td>C</td>\n",
              "      <td>G</td>\n",
              "    </tr>\n",
              "    <tr>\n",
              "      <th>16383</th>\n",
              "      <td>C</td>\n",
              "      <td>G</td>\n",
              "      <td>T</td>\n",
              "      <td>C</td>\n",
              "      <td>C</td>\n",
              "      <td>G</td>\n",
              "      <td>C</td>\n",
              "      <td>T</td>\n",
              "      <td>T</td>\n",
              "      <td>C</td>\n",
              "      <td>A</td>\n",
              "      <td>G</td>\n",
              "      <td>A</td>\n",
              "      <td>G</td>\n",
              "    </tr>\n",
              "  </tbody>\n",
              "</table>\n",
              "<p>16384 rows × 14 columns</p>\n",
              "</div>"
            ],
            "text/plain": [
              "      0  1  2  3  4  5  6  7  8  9  10 11 12 13\n",
              "0      A  A  T  C  G  G  C  C  T  C  A  C  A  G\n",
              "1      C  G  T  C  G  G  C  T  C  C  G  C  A  G\n",
              "2      A  G  T  C  G  T  C  T  T  T  G  G  C  G\n",
              "3      A  A  G  G  C  T  C  T  C  T  A  C  A  C\n",
              "4      C  A  G  G  C  G  G  C  T  T  A  C  A  C\n",
              "...   .. .. .. .. .. .. .. .. .. .. .. .. .. ..\n",
              "16379  A  G  G  G  C  G  C  T  C  T  G  G  A  G\n",
              "16380  A  G  G  C  G  T  G  T  T  T  G  C  A  G\n",
              "16381  A  G  G  C  G  T  G  C  T  T  G  C  C  C\n",
              "16382  A  G  T  C  C  T  G  T  T  C  G  G  C  G\n",
              "16383  C  G  T  C  C  G  C  T  T  C  A  G  A  G\n",
              "\n",
              "[16384 rows x 14 columns]"
            ]
          },
          "metadata": {},
          "execution_count": 4
        }
      ]
    },
    {
      "cell_type": "code",
      "metadata": {
        "id": "FjorJG2_dnn6"
      },
      "source": [
        "dataset = pd.concat([dataset, split_column], axis = 1)"
      ],
      "execution_count": null,
      "outputs": []
    },
    {
      "cell_type": "code",
      "metadata": {
        "id": "ztnqUE9ydnrS"
      },
      "source": [
        "dataset = dataset.drop(['Genotype'], axis = 1)"
      ],
      "execution_count": null,
      "outputs": []
    },
    {
      "cell_type": "code",
      "metadata": {
        "colab": {
          "base_uri": "https://localhost:8080/",
          "height": 419
        },
        "id": "7bmD6CDmdn-R",
        "outputId": "ffcb42f3-95b9-4f55-9180-fb9f923cef5c"
      },
      "source": [
        "dataset"
      ],
      "execution_count": null,
      "outputs": [
        {
          "output_type": "execute_result",
          "data": {
            "text/html": [
              "<div>\n",
              "<style scoped>\n",
              "    .dataframe tbody tr th:only-of-type {\n",
              "        vertical-align: middle;\n",
              "    }\n",
              "\n",
              "    .dataframe tbody tr th {\n",
              "        vertical-align: top;\n",
              "    }\n",
              "\n",
              "    .dataframe thead th {\n",
              "        text-align: right;\n",
              "    }\n",
              "</style>\n",
              "<table border=\"1\" class=\"dataframe\">\n",
              "  <thead>\n",
              "    <tr style=\"text-align: right;\">\n",
              "      <th></th>\n",
              "      <th>HDV_fitness</th>\n",
              "      <th>0</th>\n",
              "      <th>1</th>\n",
              "      <th>2</th>\n",
              "      <th>3</th>\n",
              "      <th>4</th>\n",
              "      <th>5</th>\n",
              "      <th>6</th>\n",
              "      <th>7</th>\n",
              "      <th>8</th>\n",
              "      <th>9</th>\n",
              "      <th>10</th>\n",
              "      <th>11</th>\n",
              "      <th>12</th>\n",
              "      <th>13</th>\n",
              "    </tr>\n",
              "  </thead>\n",
              "  <tbody>\n",
              "    <tr>\n",
              "      <th>0</th>\n",
              "      <td>0.020744</td>\n",
              "      <td>A</td>\n",
              "      <td>A</td>\n",
              "      <td>T</td>\n",
              "      <td>C</td>\n",
              "      <td>G</td>\n",
              "      <td>G</td>\n",
              "      <td>C</td>\n",
              "      <td>C</td>\n",
              "      <td>T</td>\n",
              "      <td>C</td>\n",
              "      <td>A</td>\n",
              "      <td>C</td>\n",
              "      <td>A</td>\n",
              "      <td>G</td>\n",
              "    </tr>\n",
              "    <tr>\n",
              "      <th>1</th>\n",
              "      <td>0.000000</td>\n",
              "      <td>C</td>\n",
              "      <td>G</td>\n",
              "      <td>T</td>\n",
              "      <td>C</td>\n",
              "      <td>G</td>\n",
              "      <td>G</td>\n",
              "      <td>C</td>\n",
              "      <td>T</td>\n",
              "      <td>C</td>\n",
              "      <td>C</td>\n",
              "      <td>G</td>\n",
              "      <td>C</td>\n",
              "      <td>A</td>\n",
              "      <td>G</td>\n",
              "    </tr>\n",
              "    <tr>\n",
              "      <th>2</th>\n",
              "      <td>0.025124</td>\n",
              "      <td>A</td>\n",
              "      <td>G</td>\n",
              "      <td>T</td>\n",
              "      <td>C</td>\n",
              "      <td>G</td>\n",
              "      <td>T</td>\n",
              "      <td>C</td>\n",
              "      <td>T</td>\n",
              "      <td>T</td>\n",
              "      <td>T</td>\n",
              "      <td>G</td>\n",
              "      <td>G</td>\n",
              "      <td>C</td>\n",
              "      <td>G</td>\n",
              "    </tr>\n",
              "    <tr>\n",
              "      <th>3</th>\n",
              "      <td>0.031116</td>\n",
              "      <td>A</td>\n",
              "      <td>A</td>\n",
              "      <td>G</td>\n",
              "      <td>G</td>\n",
              "      <td>C</td>\n",
              "      <td>T</td>\n",
              "      <td>C</td>\n",
              "      <td>T</td>\n",
              "      <td>C</td>\n",
              "      <td>T</td>\n",
              "      <td>A</td>\n",
              "      <td>C</td>\n",
              "      <td>A</td>\n",
              "      <td>C</td>\n",
              "    </tr>\n",
              "    <tr>\n",
              "      <th>4</th>\n",
              "      <td>0.021991</td>\n",
              "      <td>C</td>\n",
              "      <td>A</td>\n",
              "      <td>G</td>\n",
              "      <td>G</td>\n",
              "      <td>C</td>\n",
              "      <td>G</td>\n",
              "      <td>G</td>\n",
              "      <td>C</td>\n",
              "      <td>T</td>\n",
              "      <td>T</td>\n",
              "      <td>A</td>\n",
              "      <td>C</td>\n",
              "      <td>A</td>\n",
              "      <td>C</td>\n",
              "    </tr>\n",
              "    <tr>\n",
              "      <th>...</th>\n",
              "      <td>...</td>\n",
              "      <td>...</td>\n",
              "      <td>...</td>\n",
              "      <td>...</td>\n",
              "      <td>...</td>\n",
              "      <td>...</td>\n",
              "      <td>...</td>\n",
              "      <td>...</td>\n",
              "      <td>...</td>\n",
              "      <td>...</td>\n",
              "      <td>...</td>\n",
              "      <td>...</td>\n",
              "      <td>...</td>\n",
              "      <td>...</td>\n",
              "      <td>...</td>\n",
              "    </tr>\n",
              "    <tr>\n",
              "      <th>16379</th>\n",
              "      <td>0.000000</td>\n",
              "      <td>A</td>\n",
              "      <td>G</td>\n",
              "      <td>G</td>\n",
              "      <td>G</td>\n",
              "      <td>C</td>\n",
              "      <td>G</td>\n",
              "      <td>C</td>\n",
              "      <td>T</td>\n",
              "      <td>C</td>\n",
              "      <td>T</td>\n",
              "      <td>G</td>\n",
              "      <td>G</td>\n",
              "      <td>A</td>\n",
              "      <td>G</td>\n",
              "    </tr>\n",
              "    <tr>\n",
              "      <th>16380</th>\n",
              "      <td>0.027620</td>\n",
              "      <td>A</td>\n",
              "      <td>G</td>\n",
              "      <td>G</td>\n",
              "      <td>C</td>\n",
              "      <td>G</td>\n",
              "      <td>T</td>\n",
              "      <td>G</td>\n",
              "      <td>T</td>\n",
              "      <td>T</td>\n",
              "      <td>T</td>\n",
              "      <td>G</td>\n",
              "      <td>C</td>\n",
              "      <td>A</td>\n",
              "      <td>G</td>\n",
              "    </tr>\n",
              "    <tr>\n",
              "      <th>16381</th>\n",
              "      <td>0.029845</td>\n",
              "      <td>A</td>\n",
              "      <td>G</td>\n",
              "      <td>G</td>\n",
              "      <td>C</td>\n",
              "      <td>G</td>\n",
              "      <td>T</td>\n",
              "      <td>G</td>\n",
              "      <td>C</td>\n",
              "      <td>T</td>\n",
              "      <td>T</td>\n",
              "      <td>G</td>\n",
              "      <td>C</td>\n",
              "      <td>C</td>\n",
              "      <td>C</td>\n",
              "    </tr>\n",
              "    <tr>\n",
              "      <th>16382</th>\n",
              "      <td>0.000000</td>\n",
              "      <td>A</td>\n",
              "      <td>G</td>\n",
              "      <td>T</td>\n",
              "      <td>C</td>\n",
              "      <td>C</td>\n",
              "      <td>T</td>\n",
              "      <td>G</td>\n",
              "      <td>T</td>\n",
              "      <td>T</td>\n",
              "      <td>C</td>\n",
              "      <td>G</td>\n",
              "      <td>G</td>\n",
              "      <td>C</td>\n",
              "      <td>G</td>\n",
              "    </tr>\n",
              "    <tr>\n",
              "      <th>16383</th>\n",
              "      <td>0.000000</td>\n",
              "      <td>C</td>\n",
              "      <td>G</td>\n",
              "      <td>T</td>\n",
              "      <td>C</td>\n",
              "      <td>C</td>\n",
              "      <td>G</td>\n",
              "      <td>C</td>\n",
              "      <td>T</td>\n",
              "      <td>T</td>\n",
              "      <td>C</td>\n",
              "      <td>A</td>\n",
              "      <td>G</td>\n",
              "      <td>A</td>\n",
              "      <td>G</td>\n",
              "    </tr>\n",
              "  </tbody>\n",
              "</table>\n",
              "<p>16384 rows × 15 columns</p>\n",
              "</div>"
            ],
            "text/plain": [
              "       HDV_fitness  0  1  2  3  4  5  6  7  8  9 10 11 12 13\n",
              "0         0.020744  A  A  T  C  G  G  C  C  T  C  A  C  A  G\n",
              "1         0.000000  C  G  T  C  G  G  C  T  C  C  G  C  A  G\n",
              "2         0.025124  A  G  T  C  G  T  C  T  T  T  G  G  C  G\n",
              "3         0.031116  A  A  G  G  C  T  C  T  C  T  A  C  A  C\n",
              "4         0.021991  C  A  G  G  C  G  G  C  T  T  A  C  A  C\n",
              "...            ... .. .. .. .. .. .. .. .. .. .. .. .. .. ..\n",
              "16379     0.000000  A  G  G  G  C  G  C  T  C  T  G  G  A  G\n",
              "16380     0.027620  A  G  G  C  G  T  G  T  T  T  G  C  A  G\n",
              "16381     0.029845  A  G  G  C  G  T  G  C  T  T  G  C  C  C\n",
              "16382     0.000000  A  G  T  C  C  T  G  T  T  C  G  G  C  G\n",
              "16383     0.000000  C  G  T  C  C  G  C  T  T  C  A  G  A  G\n",
              "\n",
              "[16384 rows x 15 columns]"
            ]
          },
          "metadata": {},
          "execution_count": 7
        }
      ]
    },
    {
      "cell_type": "markdown",
      "metadata": {
        "id": "jzCecJbQ-ztM"
      },
      "source": [
        "**Creating dummy for categorical data**"
      ]
    },
    {
      "cell_type": "code",
      "metadata": {
        "id": "1J2mKuyudoHB"
      },
      "source": [
        "categ = dataset.select_dtypes(include='object')\n",
        "num = dataset.select_dtypes(include = np.number)\n",
        "cat_dummies = pd.get_dummies(categ, drop_first=True)"
      ],
      "execution_count": null,
      "outputs": []
    },
    {
      "cell_type": "code",
      "metadata": {
        "id": "cxSSbuA7doK7"
      },
      "source": [
        "data = pd.concat([num, cat_dummies], axis=1)"
      ],
      "execution_count": null,
      "outputs": []
    },
    {
      "cell_type": "code",
      "metadata": {
        "colab": {
          "base_uri": "https://localhost:8080/",
          "height": 419
        },
        "id": "bsTYnq2bdoOq",
        "outputId": "44cb8212-2bfd-409c-cbf6-cc6ab1155b37"
      },
      "source": [
        "data"
      ],
      "execution_count": null,
      "outputs": [
        {
          "output_type": "execute_result",
          "data": {
            "text/html": [
              "<div>\n",
              "<style scoped>\n",
              "    .dataframe tbody tr th:only-of-type {\n",
              "        vertical-align: middle;\n",
              "    }\n",
              "\n",
              "    .dataframe tbody tr th {\n",
              "        vertical-align: top;\n",
              "    }\n",
              "\n",
              "    .dataframe thead th {\n",
              "        text-align: right;\n",
              "    }\n",
              "</style>\n",
              "<table border=\"1\" class=\"dataframe\">\n",
              "  <thead>\n",
              "    <tr style=\"text-align: right;\">\n",
              "      <th></th>\n",
              "      <th>HDV_fitness</th>\n",
              "      <th>0_C</th>\n",
              "      <th>1_G</th>\n",
              "      <th>2_T</th>\n",
              "      <th>3_G</th>\n",
              "      <th>4_G</th>\n",
              "      <th>5_T</th>\n",
              "      <th>6_G</th>\n",
              "      <th>7_T</th>\n",
              "      <th>8_T</th>\n",
              "      <th>9_T</th>\n",
              "      <th>10_G</th>\n",
              "      <th>11_G</th>\n",
              "      <th>12_C</th>\n",
              "      <th>13_G</th>\n",
              "    </tr>\n",
              "  </thead>\n",
              "  <tbody>\n",
              "    <tr>\n",
              "      <th>0</th>\n",
              "      <td>0.020744</td>\n",
              "      <td>0</td>\n",
              "      <td>0</td>\n",
              "      <td>1</td>\n",
              "      <td>0</td>\n",
              "      <td>1</td>\n",
              "      <td>0</td>\n",
              "      <td>0</td>\n",
              "      <td>0</td>\n",
              "      <td>1</td>\n",
              "      <td>0</td>\n",
              "      <td>0</td>\n",
              "      <td>0</td>\n",
              "      <td>0</td>\n",
              "      <td>1</td>\n",
              "    </tr>\n",
              "    <tr>\n",
              "      <th>1</th>\n",
              "      <td>0.000000</td>\n",
              "      <td>1</td>\n",
              "      <td>1</td>\n",
              "      <td>1</td>\n",
              "      <td>0</td>\n",
              "      <td>1</td>\n",
              "      <td>0</td>\n",
              "      <td>0</td>\n",
              "      <td>1</td>\n",
              "      <td>0</td>\n",
              "      <td>0</td>\n",
              "      <td>1</td>\n",
              "      <td>0</td>\n",
              "      <td>0</td>\n",
              "      <td>1</td>\n",
              "    </tr>\n",
              "    <tr>\n",
              "      <th>2</th>\n",
              "      <td>0.025124</td>\n",
              "      <td>0</td>\n",
              "      <td>1</td>\n",
              "      <td>1</td>\n",
              "      <td>0</td>\n",
              "      <td>1</td>\n",
              "      <td>1</td>\n",
              "      <td>0</td>\n",
              "      <td>1</td>\n",
              "      <td>1</td>\n",
              "      <td>1</td>\n",
              "      <td>1</td>\n",
              "      <td>1</td>\n",
              "      <td>1</td>\n",
              "      <td>1</td>\n",
              "    </tr>\n",
              "    <tr>\n",
              "      <th>3</th>\n",
              "      <td>0.031116</td>\n",
              "      <td>0</td>\n",
              "      <td>0</td>\n",
              "      <td>0</td>\n",
              "      <td>1</td>\n",
              "      <td>0</td>\n",
              "      <td>1</td>\n",
              "      <td>0</td>\n",
              "      <td>1</td>\n",
              "      <td>0</td>\n",
              "      <td>1</td>\n",
              "      <td>0</td>\n",
              "      <td>0</td>\n",
              "      <td>0</td>\n",
              "      <td>0</td>\n",
              "    </tr>\n",
              "    <tr>\n",
              "      <th>4</th>\n",
              "      <td>0.021991</td>\n",
              "      <td>1</td>\n",
              "      <td>0</td>\n",
              "      <td>0</td>\n",
              "      <td>1</td>\n",
              "      <td>0</td>\n",
              "      <td>0</td>\n",
              "      <td>1</td>\n",
              "      <td>0</td>\n",
              "      <td>1</td>\n",
              "      <td>1</td>\n",
              "      <td>0</td>\n",
              "      <td>0</td>\n",
              "      <td>0</td>\n",
              "      <td>0</td>\n",
              "    </tr>\n",
              "    <tr>\n",
              "      <th>...</th>\n",
              "      <td>...</td>\n",
              "      <td>...</td>\n",
              "      <td>...</td>\n",
              "      <td>...</td>\n",
              "      <td>...</td>\n",
              "      <td>...</td>\n",
              "      <td>...</td>\n",
              "      <td>...</td>\n",
              "      <td>...</td>\n",
              "      <td>...</td>\n",
              "      <td>...</td>\n",
              "      <td>...</td>\n",
              "      <td>...</td>\n",
              "      <td>...</td>\n",
              "      <td>...</td>\n",
              "    </tr>\n",
              "    <tr>\n",
              "      <th>16379</th>\n",
              "      <td>0.000000</td>\n",
              "      <td>0</td>\n",
              "      <td>1</td>\n",
              "      <td>0</td>\n",
              "      <td>1</td>\n",
              "      <td>0</td>\n",
              "      <td>0</td>\n",
              "      <td>0</td>\n",
              "      <td>1</td>\n",
              "      <td>0</td>\n",
              "      <td>1</td>\n",
              "      <td>1</td>\n",
              "      <td>1</td>\n",
              "      <td>0</td>\n",
              "      <td>1</td>\n",
              "    </tr>\n",
              "    <tr>\n",
              "      <th>16380</th>\n",
              "      <td>0.027620</td>\n",
              "      <td>0</td>\n",
              "      <td>1</td>\n",
              "      <td>0</td>\n",
              "      <td>0</td>\n",
              "      <td>1</td>\n",
              "      <td>1</td>\n",
              "      <td>1</td>\n",
              "      <td>1</td>\n",
              "      <td>1</td>\n",
              "      <td>1</td>\n",
              "      <td>1</td>\n",
              "      <td>0</td>\n",
              "      <td>0</td>\n",
              "      <td>1</td>\n",
              "    </tr>\n",
              "    <tr>\n",
              "      <th>16381</th>\n",
              "      <td>0.029845</td>\n",
              "      <td>0</td>\n",
              "      <td>1</td>\n",
              "      <td>0</td>\n",
              "      <td>0</td>\n",
              "      <td>1</td>\n",
              "      <td>1</td>\n",
              "      <td>1</td>\n",
              "      <td>0</td>\n",
              "      <td>1</td>\n",
              "      <td>1</td>\n",
              "      <td>1</td>\n",
              "      <td>0</td>\n",
              "      <td>1</td>\n",
              "      <td>0</td>\n",
              "    </tr>\n",
              "    <tr>\n",
              "      <th>16382</th>\n",
              "      <td>0.000000</td>\n",
              "      <td>0</td>\n",
              "      <td>1</td>\n",
              "      <td>1</td>\n",
              "      <td>0</td>\n",
              "      <td>0</td>\n",
              "      <td>1</td>\n",
              "      <td>1</td>\n",
              "      <td>1</td>\n",
              "      <td>1</td>\n",
              "      <td>0</td>\n",
              "      <td>1</td>\n",
              "      <td>1</td>\n",
              "      <td>1</td>\n",
              "      <td>1</td>\n",
              "    </tr>\n",
              "    <tr>\n",
              "      <th>16383</th>\n",
              "      <td>0.000000</td>\n",
              "      <td>1</td>\n",
              "      <td>1</td>\n",
              "      <td>1</td>\n",
              "      <td>0</td>\n",
              "      <td>0</td>\n",
              "      <td>0</td>\n",
              "      <td>0</td>\n",
              "      <td>1</td>\n",
              "      <td>1</td>\n",
              "      <td>0</td>\n",
              "      <td>0</td>\n",
              "      <td>1</td>\n",
              "      <td>0</td>\n",
              "      <td>1</td>\n",
              "    </tr>\n",
              "  </tbody>\n",
              "</table>\n",
              "<p>16384 rows × 15 columns</p>\n",
              "</div>"
            ],
            "text/plain": [
              "       HDV_fitness  0_C  1_G  2_T  3_G  4_G  ...  8_T  9_T  10_G  11_G  12_C  13_G\n",
              "0         0.020744    0    0    1    0    1  ...    1    0     0     0     0     1\n",
              "1         0.000000    1    1    1    0    1  ...    0    0     1     0     0     1\n",
              "2         0.025124    0    1    1    0    1  ...    1    1     1     1     1     1\n",
              "3         0.031116    0    0    0    1    0  ...    0    1     0     0     0     0\n",
              "4         0.021991    1    0    0    1    0  ...    1    1     0     0     0     0\n",
              "...            ...  ...  ...  ...  ...  ...  ...  ...  ...   ...   ...   ...   ...\n",
              "16379     0.000000    0    1    0    1    0  ...    0    1     1     1     0     1\n",
              "16380     0.027620    0    1    0    0    1  ...    1    1     1     0     0     1\n",
              "16381     0.029845    0    1    0    0    1  ...    1    1     1     0     1     0\n",
              "16382     0.000000    0    1    1    0    0  ...    1    0     1     1     1     1\n",
              "16383     0.000000    1    1    1    0    0  ...    1    0     0     1     0     1\n",
              "\n",
              "[16384 rows x 15 columns]"
            ]
          },
          "metadata": {},
          "execution_count": 10
        }
      ]
    },
    {
      "cell_type": "markdown",
      "metadata": {
        "id": "j1fSoFaA--CE"
      },
      "source": [
        "**dividing the dataset into dependant and indepent**"
      ]
    },
    {
      "cell_type": "code",
      "metadata": {
        "id": "gVsfvbbLdoR1"
      },
      "source": [
        "X = data.iloc[:, 1:15].values\n",
        "y = data.iloc[:, 0].values"
      ],
      "execution_count": null,
      "outputs": []
    },
    {
      "cell_type": "code",
      "metadata": {
        "colab": {
          "base_uri": "https://localhost:8080/"
        },
        "id": "XwtR1KG-doVQ",
        "outputId": "ceb6bcaa-4226-4c5b-b3f7-1183b95ed6ac"
      },
      "source": [
        "print(X)\n",
        "print(y)"
      ],
      "execution_count": null,
      "outputs": [
        {
          "output_type": "stream",
          "name": "stdout",
          "text": [
            "[[0 0 1 ... 0 0 1]\n",
            " [1 1 1 ... 0 0 1]\n",
            " [0 1 1 ... 1 1 1]\n",
            " ...\n",
            " [0 1 0 ... 0 1 0]\n",
            " [0 1 1 ... 1 1 1]\n",
            " [1 1 1 ... 1 0 1]]\n",
            "[0.02074382 0.         0.02512375 ... 0.02984529 0.         0.        ]\n"
          ]
        }
      ]
    },
    {
      "cell_type": "markdown",
      "metadata": {
        "id": "u7HL3jjG_J6J"
      },
      "source": [
        "**Spliting the dataset into training set and testing set**"
      ]
    },
    {
      "cell_type": "code",
      "metadata": {
        "id": "s-b5Cs4pfcWK"
      },
      "source": [
        "from sklearn.model_selection import train_test_split\n",
        "X_train, X_test, y_train, y_test = train_test_split(X, y, test_size = 0.2, random_state = 101)"
      ],
      "execution_count": null,
      "outputs": []
    },
    {
      "cell_type": "markdown",
      "metadata": {
        "id": "1hjeJv4Y_QVN"
      },
      "source": [
        "###Training the random forest regression model into the training set"
      ]
    },
    {
      "cell_type": "code",
      "metadata": {
        "colab": {
          "base_uri": "https://localhost:8080/"
        },
        "id": "OI5eKD_DNVf4",
        "outputId": "d9059bfc-ee7a-44ba-a581-bca74536b240"
      },
      "source": [
        "from sklearn.ensemble import RandomForestRegressor\n",
        "from sklearn.model_selection import GridSearchCV\n",
        "param_grid = {\n",
        "    \"n_estimators\":[100,200,300],\n",
        "    \"max_depth\":[10, 50, 100],\n",
        "    \"max_features\":[6,8,10,12,14,16]\n",
        "}\n",
        "\n",
        "rf_reg = RandomForestRegressor()\n",
        "\n",
        "rf_reg_tuned = GridSearchCV(estimator=rf_reg,\n",
        "                            param_grid=param_grid,\n",
        "                            cv=3,\n",
        "                            n_jobs=-1,scoring='r2',\n",
        "                            verbose=0)\n",
        "\n",
        "rf_reg_tuned.fit(X_train, y_train)\n",
        "rf_reg_tuned.predict(X_test)\n",
        "print('Best R2: ', rf_reg_tuned.best_score_)\n",
        "\n",
        "rf_reg_tuned = GridSearchCV(estimator=rf_reg,\n",
        "                            param_grid=param_grid,\n",
        "                            cv=3,\n",
        "                            n_jobs=-1,scoring = 'neg_mean_squared_error',\n",
        "                            verbose=0)\n",
        "\n",
        "rf_reg_tuned.fit(X_train, y_train)\n",
        "rf_reg_tuned.predict(X_test)\n",
        "print('MSE: ', rf_reg_tuned.best_score_)\n",
        "\n",
        "rf_reg_tuned = GridSearchCV(estimator=rf_reg,\n",
        "                            param_grid=param_grid,\n",
        "                            cv=3,\n",
        "                            n_jobs=-1,scoring='neg_mean_absolute_error',\n",
        "                            verbose=0)\n",
        "\n",
        "rf_reg_tuned.fit(X_train, y_train)\n",
        "rf_reg_tuned.predict(X_test)\n",
        "print('Best MAE: ', rf_reg_tuned.best_score_)"
      ],
      "execution_count": null,
      "outputs": [
        {
          "output_type": "stream",
          "name": "stderr",
          "text": [
            "/usr/local/lib/python3.7/dist-packages/joblib/externals/loky/process_executor.py:705: UserWarning: A worker stopped while some jobs were given to the executor. This can be caused by a too short worker timeout or by a memory leak.\n",
            "  \"timeout or by a memory leak.\", UserWarning\n"
          ]
        },
        {
          "output_type": "stream",
          "name": "stdout",
          "text": [
            "Best R2:  0.5408985405605353\n",
            "MSE:  -0.00169022629911229\n",
            "Best MAE:  -0.02013902093314188\n"
          ]
        }
      ]
    },
    {
      "cell_type": "code",
      "metadata": {
        "colab": {
          "base_uri": "https://localhost:8080/"
        },
        "id": "Dfq21tUAwvcF",
        "outputId": "9da9ef46-eed5-47af-bbf3-00ce4b1c5295"
      },
      "source": [
        "print(rf_reg_tuned.best_params_)"
      ],
      "execution_count": null,
      "outputs": [
        {
          "output_type": "stream",
          "name": "stdout",
          "text": [
            "{'max_depth': 10, 'max_features': 8, 'n_estimators': 100}\n"
          ]
        }
      ]
    },
    {
      "cell_type": "markdown",
      "metadata": {
        "id": "xCUata_6_lCr"
      },
      "source": [
        "**Importing the libraries for Keras sequential regression model**"
      ]
    },
    {
      "cell_type": "code",
      "metadata": {
        "id": "KxiNnT4sfctl"
      },
      "source": [
        "import keras\n",
        "from keras.models import Sequential\n",
        "from keras.layers import Dense\n",
        "from keras.wrappers.scikit_learn import KerasRegressor\n",
        "from sklearn.model_selection import cross_val_score\n",
        "from sklearn.model_selection import KFold\n",
        "from sklearn.preprocessing import StandardScaler\n",
        "from sklearn.pipeline import Pipeline"
      ],
      "execution_count": null,
      "outputs": []
    },
    {
      "cell_type": "markdown",
      "metadata": {
        "id": "gHW3OagO_sJS"
      },
      "source": [
        "## Defining the keras sequential regression model"
      ]
    },
    {
      "cell_type": "markdown",
      "metadata": {
        "id": "jdMb9b4Te_Se"
      },
      "source": [
        "For our model "
      ]
    },
    {
      "cell_type": "code",
      "metadata": {
        "id": "r-dIejhmfdEi"
      },
      "source": [
        "def create_mlp(dim, regress=False):\n",
        "\t# define our MLP network\n",
        "\tmodel = Sequential()\n",
        "\tmodel.add(Dense(9, input_dim=dim, activation=\"relu\"))\n",
        "  #model.add(Dense(4, activation=\"relu\"))\n",
        "\tmodel.add(Dense(4, activation=\"relu\"))\n",
        "  \n",
        "\t# check to see if the regression node should be added\n",
        "\tif regress:\n",
        "\t\tmodel.add(Dense(1, activation=\"linear\"))\n",
        "\t# return our model\n",
        "\treturn model"
      ],
      "execution_count": null,
      "outputs": []
    },
    {
      "cell_type": "code",
      "metadata": {
        "colab": {
          "base_uri": "https://localhost:8080/"
        },
        "id": "8My0jibNh0RQ",
        "outputId": "a118d6e3-3c83-498b-9ce4-5c7154bc3a33"
      },
      "source": [
        "model = create_mlp(X.shape[1], regress=True)\n",
        "#opt = Adam(lr=1e-3, decay=1e-3 / 200)\n",
        "#model.compile(loss='mse', optimizer=opt, metrics=['accuracy'])\n",
        "\n",
        "model.compile(loss='mse', optimizer='adam', metrics=['mse','mae'])\n",
        "# train the model\n",
        "print(\"[INFO] training model...\")\n",
        "history = model.fit(x=X, y=y \n",
        "\t, validation_split=0.2,\n",
        "\tepochs=100, batch_size=8)\n",
        "predict = model.predict(X_test, batch_size=8, verbose=0, steps=None, \n",
        "                        callbacks=None, max_queue_size=10, workers = 1, \n",
        "\t\t\t\t\t\t\t\t\t\t\t\t            use_multiprocessing=False)"
      ],
      "execution_count": null,
      "outputs": [
        {
          "output_type": "stream",
          "name": "stdout",
          "text": [
            "[INFO] training model...\n",
            "Epoch 1/100\n",
            "1639/1639 [==============================] - 4s 2ms/step - loss: 0.0125 - mse: 0.0125 - mae: 0.0611 - val_loss: 0.0035 - val_mse: 0.0035 - val_mae: 0.0245\n",
            "Epoch 2/100\n",
            "1639/1639 [==============================] - 3s 2ms/step - loss: 0.0035 - mse: 0.0035 - mae: 0.0251 - val_loss: 0.0033 - val_mse: 0.0033 - val_mae: 0.0258\n",
            "Epoch 3/100\n",
            "1639/1639 [==============================] - 3s 2ms/step - loss: 0.0034 - mse: 0.0034 - mae: 0.0245 - val_loss: 0.0032 - val_mse: 0.0032 - val_mae: 0.0239\n",
            "Epoch 4/100\n",
            "1639/1639 [==============================] - 3s 2ms/step - loss: 0.0034 - mse: 0.0034 - mae: 0.0240 - val_loss: 0.0032 - val_mse: 0.0032 - val_mae: 0.0218\n",
            "Epoch 5/100\n",
            "1639/1639 [==============================] - 3s 2ms/step - loss: 0.0034 - mse: 0.0034 - mae: 0.0238 - val_loss: 0.0032 - val_mse: 0.0032 - val_mae: 0.0221\n",
            "Epoch 6/100\n",
            "1639/1639 [==============================] - 3s 2ms/step - loss: 0.0033 - mse: 0.0033 - mae: 0.0238 - val_loss: 0.0031 - val_mse: 0.0031 - val_mae: 0.0228\n",
            "Epoch 7/100\n",
            "1639/1639 [==============================] - 3s 2ms/step - loss: 0.0031 - mse: 0.0031 - mae: 0.0243 - val_loss: 0.0028 - val_mse: 0.0028 - val_mae: 0.0231\n",
            "Epoch 8/100\n",
            "1639/1639 [==============================] - 3s 2ms/step - loss: 0.0029 - mse: 0.0029 - mae: 0.0241 - val_loss: 0.0028 - val_mse: 0.0028 - val_mae: 0.0251\n",
            "Epoch 9/100\n",
            "1639/1639 [==============================] - 3s 2ms/step - loss: 0.0028 - mse: 0.0028 - mae: 0.0242 - val_loss: 0.0027 - val_mse: 0.0027 - val_mae: 0.0236\n",
            "Epoch 10/100\n",
            "1639/1639 [==============================] - 3s 2ms/step - loss: 0.0027 - mse: 0.0027 - mae: 0.0240 - val_loss: 0.0025 - val_mse: 0.0025 - val_mae: 0.0226\n",
            "Epoch 11/100\n",
            "1639/1639 [==============================] - 4s 2ms/step - loss: 0.0027 - mse: 0.0027 - mae: 0.0239 - val_loss: 0.0024 - val_mse: 0.0024 - val_mae: 0.0223\n",
            "Epoch 12/100\n",
            "1639/1639 [==============================] - 3s 2ms/step - loss: 0.0025 - mse: 0.0025 - mae: 0.0236 - val_loss: 0.0023 - val_mse: 0.0023 - val_mae: 0.0224\n",
            "Epoch 13/100\n",
            "1639/1639 [==============================] - 3s 2ms/step - loss: 0.0025 - mse: 0.0025 - mae: 0.0236 - val_loss: 0.0024 - val_mse: 0.0024 - val_mae: 0.0221\n",
            "Epoch 14/100\n",
            "1639/1639 [==============================] - 3s 2ms/step - loss: 0.0024 - mse: 0.0024 - mae: 0.0233 - val_loss: 0.0022 - val_mse: 0.0022 - val_mae: 0.0224\n",
            "Epoch 15/100\n",
            "1639/1639 [==============================] - 3s 2ms/step - loss: 0.0023 - mse: 0.0023 - mae: 0.0233 - val_loss: 0.0022 - val_mse: 0.0022 - val_mae: 0.0226\n",
            "Epoch 16/100\n",
            "1639/1639 [==============================] - 3s 2ms/step - loss: 0.0022 - mse: 0.0022 - mae: 0.0231 - val_loss: 0.0020 - val_mse: 0.0020 - val_mae: 0.0215\n",
            "Epoch 17/100\n",
            "1639/1639 [==============================] - 3s 2ms/step - loss: 0.0020 - mse: 0.0020 - mae: 0.0225 - val_loss: 0.0020 - val_mse: 0.0020 - val_mae: 0.0214\n",
            "Epoch 18/100\n",
            "1639/1639 [==============================] - 3s 2ms/step - loss: 0.0019 - mse: 0.0019 - mae: 0.0223 - val_loss: 0.0017 - val_mse: 0.0017 - val_mae: 0.0209\n",
            "Epoch 19/100\n",
            "1639/1639 [==============================] - 3s 2ms/step - loss: 0.0017 - mse: 0.0017 - mae: 0.0217 - val_loss: 0.0015 - val_mse: 0.0015 - val_mae: 0.0207\n",
            "Epoch 20/100\n",
            "1639/1639 [==============================] - 3s 2ms/step - loss: 0.0016 - mse: 0.0016 - mae: 0.0215 - val_loss: 0.0013 - val_mse: 0.0013 - val_mae: 0.0200\n",
            "Epoch 21/100\n",
            "1639/1639 [==============================] - 3s 2ms/step - loss: 0.0014 - mse: 0.0014 - mae: 0.0210 - val_loss: 0.0013 - val_mse: 0.0013 - val_mae: 0.0198\n",
            "Epoch 22/100\n",
            "1639/1639 [==============================] - 3s 2ms/step - loss: 0.0013 - mse: 0.0013 - mae: 0.0206 - val_loss: 0.0021 - val_mse: 0.0021 - val_mae: 0.0229\n",
            "Epoch 23/100\n",
            "1639/1639 [==============================] - 3s 2ms/step - loss: 0.0013 - mse: 0.0013 - mae: 0.0203 - val_loss: 0.0012 - val_mse: 0.0012 - val_mae: 0.0211\n",
            "Epoch 24/100\n",
            "1639/1639 [==============================] - 3s 2ms/step - loss: 0.0012 - mse: 0.0012 - mae: 0.0199 - val_loss: 0.0011 - val_mse: 0.0011 - val_mae: 0.0187\n",
            "Epoch 25/100\n",
            "1639/1639 [==============================] - 3s 2ms/step - loss: 0.0012 - mse: 0.0012 - mae: 0.0198 - val_loss: 0.0011 - val_mse: 0.0011 - val_mae: 0.0187\n",
            "Epoch 26/100\n",
            "1639/1639 [==============================] - 3s 2ms/step - loss: 0.0011 - mse: 0.0011 - mae: 0.0194 - val_loss: 0.0011 - val_mse: 0.0011 - val_mae: 0.0185\n",
            "Epoch 27/100\n",
            "1639/1639 [==============================] - 3s 2ms/step - loss: 0.0011 - mse: 0.0011 - mae: 0.0193 - val_loss: 0.0011 - val_mse: 0.0011 - val_mae: 0.0182\n",
            "Epoch 28/100\n",
            "1639/1639 [==============================] - 3s 2ms/step - loss: 0.0011 - mse: 0.0011 - mae: 0.0192 - val_loss: 0.0010 - val_mse: 0.0010 - val_mae: 0.0190\n",
            "Epoch 29/100\n",
            "1639/1639 [==============================] - 3s 2ms/step - loss: 0.0011 - mse: 0.0011 - mae: 0.0191 - val_loss: 0.0012 - val_mse: 0.0012 - val_mae: 0.0186\n",
            "Epoch 30/100\n",
            "1639/1639 [==============================] - 3s 2ms/step - loss: 0.0011 - mse: 0.0011 - mae: 0.0190 - val_loss: 0.0015 - val_mse: 0.0015 - val_mae: 0.0191\n",
            "Epoch 31/100\n",
            "1639/1639 [==============================] - 3s 2ms/step - loss: 0.0010 - mse: 0.0010 - mae: 0.0189 - val_loss: 0.0011 - val_mse: 0.0011 - val_mae: 0.0186\n",
            "Epoch 32/100\n",
            "1639/1639 [==============================] - 3s 2ms/step - loss: 0.0010 - mse: 0.0010 - mae: 0.0188 - val_loss: 0.0011 - val_mse: 0.0011 - val_mae: 0.0186\n",
            "Epoch 33/100\n",
            "1639/1639 [==============================] - 3s 2ms/step - loss: 0.0010 - mse: 0.0010 - mae: 0.0188 - val_loss: 0.0011 - val_mse: 0.0011 - val_mae: 0.0187\n",
            "Epoch 34/100\n",
            "1639/1639 [==============================] - 3s 2ms/step - loss: 0.0011 - mse: 0.0011 - mae: 0.0189 - val_loss: 0.0012 - val_mse: 0.0012 - val_mae: 0.0182\n",
            "Epoch 35/100\n",
            "1639/1639 [==============================] - 3s 2ms/step - loss: 0.0011 - mse: 0.0011 - mae: 0.0188 - val_loss: 0.0012 - val_mse: 0.0012 - val_mae: 0.0181\n",
            "Epoch 36/100\n",
            "1639/1639 [==============================] - 3s 2ms/step - loss: 0.0011 - mse: 0.0011 - mae: 0.0188 - val_loss: 0.0011 - val_mse: 0.0011 - val_mae: 0.0183\n",
            "Epoch 37/100\n",
            "1639/1639 [==============================] - 3s 2ms/step - loss: 0.0010 - mse: 0.0010 - mae: 0.0186 - val_loss: 0.0012 - val_mse: 0.0012 - val_mae: 0.0185\n",
            "Epoch 38/100\n",
            "1639/1639 [==============================] - 3s 2ms/step - loss: 0.0010 - mse: 0.0010 - mae: 0.0186 - val_loss: 0.0011 - val_mse: 0.0011 - val_mae: 0.0179\n",
            "Epoch 39/100\n",
            "1639/1639 [==============================] - 3s 2ms/step - loss: 0.0011 - mse: 0.0011 - mae: 0.0187 - val_loss: 0.0012 - val_mse: 0.0012 - val_mae: 0.0184\n",
            "Epoch 40/100\n",
            "1639/1639 [==============================] - 3s 2ms/step - loss: 0.0010 - mse: 0.0010 - mae: 0.0186 - val_loss: 0.0011 - val_mse: 0.0011 - val_mae: 0.0186\n",
            "Epoch 41/100\n",
            "1639/1639 [==============================] - 3s 2ms/step - loss: 0.0010 - mse: 0.0010 - mae: 0.0186 - val_loss: 0.0010 - val_mse: 0.0010 - val_mae: 0.0182\n",
            "Epoch 42/100\n",
            "1639/1639 [==============================] - 3s 2ms/step - loss: 0.0011 - mse: 0.0011 - mae: 0.0187 - val_loss: 0.0011 - val_mse: 0.0011 - val_mae: 0.0181\n",
            "Epoch 43/100\n",
            "1639/1639 [==============================] - 3s 2ms/step - loss: 0.0010 - mse: 0.0010 - mae: 0.0185 - val_loss: 0.0011 - val_mse: 0.0011 - val_mae: 0.0175\n",
            "Epoch 44/100\n",
            "1639/1639 [==============================] - 4s 2ms/step - loss: 0.0010 - mse: 0.0010 - mae: 0.0185 - val_loss: 0.0013 - val_mse: 0.0013 - val_mae: 0.0192\n",
            "Epoch 45/100\n",
            "1639/1639 [==============================] - 3s 2ms/step - loss: 0.0011 - mse: 0.0011 - mae: 0.0185 - val_loss: 0.0011 - val_mse: 0.0011 - val_mae: 0.0179\n",
            "Epoch 46/100\n",
            "1639/1639 [==============================] - 3s 2ms/step - loss: 0.0010 - mse: 0.0010 - mae: 0.0185 - val_loss: 0.0012 - val_mse: 0.0012 - val_mae: 0.0205\n",
            "Epoch 47/100\n",
            "1639/1639 [==============================] - 3s 2ms/step - loss: 0.0010 - mse: 0.0010 - mae: 0.0185 - val_loss: 0.0011 - val_mse: 0.0011 - val_mae: 0.0185\n",
            "Epoch 48/100\n",
            "1639/1639 [==============================] - 3s 2ms/step - loss: 9.6214e-04 - mse: 9.6214e-04 - mae: 0.0184 - val_loss: 0.0023 - val_mse: 0.0023 - val_mae: 0.0188\n",
            "Epoch 49/100\n",
            "1639/1639 [==============================] - 3s 2ms/step - loss: 0.0012 - mse: 0.0012 - mae: 0.0189 - val_loss: 0.0012 - val_mse: 0.0012 - val_mae: 0.0188\n",
            "Epoch 50/100\n",
            "1639/1639 [==============================] - 3s 2ms/step - loss: 9.5287e-04 - mse: 9.5287e-04 - mae: 0.0183 - val_loss: 0.0017 - val_mse: 0.0017 - val_mae: 0.0193\n",
            "Epoch 51/100\n",
            "1639/1639 [==============================] - 3s 2ms/step - loss: 9.2314e-04 - mse: 9.2314e-04 - mae: 0.0183 - val_loss: 0.0011 - val_mse: 0.0011 - val_mae: 0.0185\n",
            "Epoch 52/100\n",
            "1639/1639 [==============================] - 3s 2ms/step - loss: 0.0010 - mse: 0.0010 - mae: 0.0185 - val_loss: 0.0011 - val_mse: 0.0011 - val_mae: 0.0184\n",
            "Epoch 53/100\n",
            "1639/1639 [==============================] - 3s 2ms/step - loss: 9.4836e-04 - mse: 9.4836e-04 - mae: 0.0184 - val_loss: 0.0011 - val_mse: 0.0011 - val_mae: 0.0185\n",
            "Epoch 54/100\n",
            "1639/1639 [==============================] - 3s 2ms/step - loss: 9.2544e-04 - mse: 9.2544e-04 - mae: 0.0183 - val_loss: 0.0011 - val_mse: 0.0011 - val_mae: 0.0182\n",
            "Epoch 55/100\n",
            "1639/1639 [==============================] - 4s 2ms/step - loss: 9.5280e-04 - mse: 9.5280e-04 - mae: 0.0183 - val_loss: 0.0011 - val_mse: 0.0011 - val_mae: 0.0183\n",
            "Epoch 56/100\n",
            "1639/1639 [==============================] - 3s 2ms/step - loss: 9.2713e-04 - mse: 9.2713e-04 - mae: 0.0183 - val_loss: 0.0013 - val_mse: 0.0013 - val_mae: 0.0195\n",
            "Epoch 57/100\n",
            "1639/1639 [==============================] - 3s 2ms/step - loss: 0.0010 - mse: 0.0010 - mae: 0.0184 - val_loss: 0.0011 - val_mse: 0.0011 - val_mae: 0.0176\n",
            "Epoch 58/100\n",
            "1639/1639 [==============================] - 3s 2ms/step - loss: 9.1630e-04 - mse: 9.1630e-04 - mae: 0.0182 - val_loss: 0.0012 - val_mse: 0.0012 - val_mae: 0.0177\n",
            "Epoch 59/100\n",
            "1639/1639 [==============================] - 3s 2ms/step - loss: 9.4336e-04 - mse: 9.4336e-04 - mae: 0.0183 - val_loss: 0.0014 - val_mse: 0.0014 - val_mae: 0.0204\n",
            "Epoch 60/100\n",
            "1639/1639 [==============================] - 3s 2ms/step - loss: 9.3596e-04 - mse: 9.3596e-04 - mae: 0.0183 - val_loss: 0.0011 - val_mse: 0.0011 - val_mae: 0.0191\n",
            "Epoch 61/100\n",
            "1639/1639 [==============================] - 4s 2ms/step - loss: 9.3594e-04 - mse: 9.3594e-04 - mae: 0.0183 - val_loss: 0.0011 - val_mse: 0.0011 - val_mae: 0.0182\n",
            "Epoch 62/100\n",
            "1639/1639 [==============================] - 3s 2ms/step - loss: 9.1980e-04 - mse: 9.1980e-04 - mae: 0.0183 - val_loss: 0.0012 - val_mse: 0.0012 - val_mae: 0.0179\n",
            "Epoch 63/100\n",
            "1639/1639 [==============================] - 3s 2ms/step - loss: 9.3969e-04 - mse: 9.3969e-04 - mae: 0.0182 - val_loss: 0.0011 - val_mse: 0.0011 - val_mae: 0.0180\n",
            "Epoch 64/100\n",
            "1639/1639 [==============================] - 3s 2ms/step - loss: 9.3997e-04 - mse: 9.3997e-04 - mae: 0.0183 - val_loss: 0.0012 - val_mse: 0.0012 - val_mae: 0.0180\n",
            "Epoch 65/100\n",
            "1639/1639 [==============================] - 4s 2ms/step - loss: 9.1409e-04 - mse: 9.1409e-04 - mae: 0.0183 - val_loss: 0.0012 - val_mse: 0.0012 - val_mae: 0.0178\n",
            "Epoch 66/100\n",
            "1639/1639 [==============================] - 3s 2ms/step - loss: 9.1928e-04 - mse: 9.1928e-04 - mae: 0.0182 - val_loss: 0.0012 - val_mse: 0.0012 - val_mae: 0.0178\n",
            "Epoch 67/100\n",
            "1639/1639 [==============================] - 3s 2ms/step - loss: 9.1413e-04 - mse: 9.1413e-04 - mae: 0.0182 - val_loss: 0.0012 - val_mse: 0.0012 - val_mae: 0.0178\n",
            "Epoch 68/100\n",
            "1639/1639 [==============================] - 3s 2ms/step - loss: 9.6642e-04 - mse: 9.6642e-04 - mae: 0.0183 - val_loss: 0.0012 - val_mse: 0.0012 - val_mae: 0.0177\n",
            "Epoch 69/100\n",
            "1639/1639 [==============================] - 3s 2ms/step - loss: 9.7041e-04 - mse: 9.7041e-04 - mae: 0.0182 - val_loss: 0.0012 - val_mse: 0.0012 - val_mae: 0.0197\n",
            "Epoch 70/100\n",
            "1639/1639 [==============================] - 3s 2ms/step - loss: 9.0648e-04 - mse: 9.0648e-04 - mae: 0.0181 - val_loss: 0.0010 - val_mse: 0.0010 - val_mae: 0.0192\n",
            "Epoch 71/100\n",
            "1639/1639 [==============================] - 3s 2ms/step - loss: 9.2919e-04 - mse: 9.2919e-04 - mae: 0.0183 - val_loss: 0.0010 - val_mse: 0.0010 - val_mae: 0.0175\n",
            "Epoch 72/100\n",
            "1639/1639 [==============================] - 3s 2ms/step - loss: 9.2599e-04 - mse: 9.2599e-04 - mae: 0.0182 - val_loss: 0.0011 - val_mse: 0.0011 - val_mae: 0.0176\n",
            "Epoch 73/100\n",
            "1639/1639 [==============================] - 3s 2ms/step - loss: 8.8924e-04 - mse: 8.8924e-04 - mae: 0.0181 - val_loss: 0.0013 - val_mse: 0.0013 - val_mae: 0.0179\n",
            "Epoch 74/100\n",
            "1639/1639 [==============================] - 3s 2ms/step - loss: 8.9154e-04 - mse: 8.9154e-04 - mae: 0.0182 - val_loss: 0.0015 - val_mse: 0.0015 - val_mae: 0.0191\n",
            "Epoch 75/100\n",
            "1639/1639 [==============================] - 3s 2ms/step - loss: 9.3392e-04 - mse: 9.3392e-04 - mae: 0.0182 - val_loss: 0.0011 - val_mse: 0.0011 - val_mae: 0.0177\n",
            "Epoch 76/100\n",
            "1639/1639 [==============================] - 3s 2ms/step - loss: 9.6973e-04 - mse: 9.6973e-04 - mae: 0.0183 - val_loss: 0.0011 - val_mse: 0.0011 - val_mae: 0.0187\n",
            "Epoch 77/100\n",
            "1639/1639 [==============================] - 3s 2ms/step - loss: 8.9597e-04 - mse: 8.9597e-04 - mae: 0.0181 - val_loss: 0.0010 - val_mse: 0.0010 - val_mae: 0.0185\n",
            "Epoch 78/100\n",
            "1639/1639 [==============================] - 3s 2ms/step - loss: 9.2161e-04 - mse: 9.2161e-04 - mae: 0.0182 - val_loss: 0.0012 - val_mse: 0.0012 - val_mae: 0.0182\n",
            "Epoch 79/100\n",
            "1639/1639 [==============================] - 3s 2ms/step - loss: 9.2123e-04 - mse: 9.2123e-04 - mae: 0.0182 - val_loss: 9.6525e-04 - val_mse: 9.6525e-04 - val_mae: 0.0177\n",
            "Epoch 80/100\n",
            "1639/1639 [==============================] - 3s 2ms/step - loss: 9.3797e-04 - mse: 9.3797e-04 - mae: 0.0182 - val_loss: 0.0012 - val_mse: 0.0012 - val_mae: 0.0186\n",
            "Epoch 81/100\n",
            "1639/1639 [==============================] - 3s 2ms/step - loss: 8.7785e-04 - mse: 8.7785e-04 - mae: 0.0181 - val_loss: 0.0013 - val_mse: 0.0013 - val_mae: 0.0200\n",
            "Epoch 82/100\n",
            "1639/1639 [==============================] - 3s 2ms/step - loss: 9.0222e-04 - mse: 9.0222e-04 - mae: 0.0181 - val_loss: 9.7957e-04 - val_mse: 9.7957e-04 - val_mae: 0.0181\n",
            "Epoch 83/100\n",
            "1639/1639 [==============================] - 4s 2ms/step - loss: 8.8383e-04 - mse: 8.8383e-04 - mae: 0.0182 - val_loss: 0.0011 - val_mse: 0.0011 - val_mae: 0.0183\n",
            "Epoch 84/100\n",
            "1639/1639 [==============================] - 3s 2ms/step - loss: 9.4280e-04 - mse: 9.4280e-04 - mae: 0.0182 - val_loss: 0.0012 - val_mse: 0.0012 - val_mae: 0.0205\n",
            "Epoch 85/100\n",
            "1639/1639 [==============================] - 3s 2ms/step - loss: 8.7730e-04 - mse: 8.7730e-04 - mae: 0.0180 - val_loss: 0.0011 - val_mse: 0.0011 - val_mae: 0.0208\n",
            "Epoch 86/100\n",
            "1639/1639 [==============================] - 3s 2ms/step - loss: 8.5148e-04 - mse: 8.5148e-04 - mae: 0.0181 - val_loss: 0.0014 - val_mse: 0.0014 - val_mae: 0.0188\n",
            "Epoch 87/100\n",
            "1639/1639 [==============================] - 3s 2ms/step - loss: 9.0029e-04 - mse: 9.0029e-04 - mae: 0.0181 - val_loss: 0.0012 - val_mse: 0.0012 - val_mae: 0.0184\n",
            "Epoch 88/100\n",
            "1639/1639 [==============================] - 3s 2ms/step - loss: 8.9822e-04 - mse: 8.9822e-04 - mae: 0.0181 - val_loss: 0.0010 - val_mse: 0.0010 - val_mae: 0.0186\n",
            "Epoch 89/100\n",
            "1639/1639 [==============================] - 3s 2ms/step - loss: 8.9867e-04 - mse: 8.9867e-04 - mae: 0.0181 - val_loss: 9.9609e-04 - val_mse: 9.9609e-04 - val_mae: 0.0179\n",
            "Epoch 90/100\n",
            "1639/1639 [==============================] - 3s 2ms/step - loss: 8.9505e-04 - mse: 8.9505e-04 - mae: 0.0181 - val_loss: 0.0012 - val_mse: 0.0012 - val_mae: 0.0188\n",
            "Epoch 91/100\n",
            "1639/1639 [==============================] - 4s 2ms/step - loss: 8.8319e-04 - mse: 8.8319e-04 - mae: 0.0181 - val_loss: 0.0014 - val_mse: 0.0014 - val_mae: 0.0183\n",
            "Epoch 92/100\n",
            "1639/1639 [==============================] - 3s 2ms/step - loss: 8.9172e-04 - mse: 8.9172e-04 - mae: 0.0181 - val_loss: 0.0010 - val_mse: 0.0010 - val_mae: 0.0181\n",
            "Epoch 93/100\n",
            "1639/1639 [==============================] - 3s 2ms/step - loss: 8.9415e-04 - mse: 8.9415e-04 - mae: 0.0181 - val_loss: 0.0013 - val_mse: 0.0013 - val_mae: 0.0180\n",
            "Epoch 94/100\n",
            "1639/1639 [==============================] - 3s 2ms/step - loss: 9.0627e-04 - mse: 9.0627e-04 - mae: 0.0181 - val_loss: 0.0011 - val_mse: 0.0011 - val_mae: 0.0175\n",
            "Epoch 95/100\n",
            "1639/1639 [==============================] - 3s 2ms/step - loss: 9.1321e-04 - mse: 9.1321e-04 - mae: 0.0181 - val_loss: 0.0011 - val_mse: 0.0011 - val_mae: 0.0175\n",
            "Epoch 96/100\n",
            "1639/1639 [==============================] - 3s 2ms/step - loss: 8.6738e-04 - mse: 8.6738e-04 - mae: 0.0181 - val_loss: 0.0013 - val_mse: 0.0013 - val_mae: 0.0178\n",
            "Epoch 97/100\n",
            "1639/1639 [==============================] - 3s 2ms/step - loss: 8.8738e-04 - mse: 8.8738e-04 - mae: 0.0181 - val_loss: 0.0011 - val_mse: 0.0011 - val_mae: 0.0178\n",
            "Epoch 98/100\n",
            "1639/1639 [==============================] - 3s 2ms/step - loss: 8.6366e-04 - mse: 8.6366e-04 - mae: 0.0180 - val_loss: 0.0013 - val_mse: 0.0013 - val_mae: 0.0179\n",
            "Epoch 99/100\n",
            "1639/1639 [==============================] - 3s 2ms/step - loss: 8.9465e-04 - mse: 8.9465e-04 - mae: 0.0181 - val_loss: 0.0011 - val_mse: 0.0011 - val_mae: 0.0170\n",
            "Epoch 100/100\n",
            "1639/1639 [==============================] - 3s 2ms/step - loss: 9.2064e-04 - mse: 9.2064e-04 - mae: 0.0182 - val_loss: 0.0014 - val_mse: 0.0014 - val_mae: 0.0184\n"
          ]
        }
      ]
    },
    {
      "cell_type": "code",
      "metadata": {
        "colab": {
          "base_uri": "https://localhost:8080/"
        },
        "id": "eXu19b8R70OO",
        "outputId": "8db6e32f-e103-4d0b-91a8-dcd38b6250d3"
      },
      "source": [
        "print(model.summary())"
      ],
      "execution_count": null,
      "outputs": [
        {
          "output_type": "stream",
          "name": "stdout",
          "text": [
            "Model: \"sequential_1\"\n",
            "_________________________________________________________________\n",
            " Layer (type)                Output Shape              Param #   \n",
            "=================================================================\n",
            " dense_3 (Dense)             (None, 9)                 135       \n",
            "                                                                 \n",
            " dense_4 (Dense)             (None, 4)                 40        \n",
            "                                                                 \n",
            " dense_5 (Dense)             (None, 1)                 5         \n",
            "                                                                 \n",
            "=================================================================\n",
            "Total params: 180\n",
            "Trainable params: 180\n",
            "Non-trainable params: 0\n",
            "_________________________________________________________________\n",
            "None\n"
          ]
        }
      ]
    },
    {
      "cell_type": "code",
      "metadata": {
        "colab": {
          "base_uri": "https://localhost:8080/",
          "height": 422
        },
        "id": "3JT-0hmr8Jd7",
        "outputId": "5d43c974-9f02-4074-ba41-e9215e90e82a"
      },
      "source": [
        "from keras.utils.vis_utils import plot_model\n",
        "plot_model(model, to_file = 'model_plot.png', show_shapes=True)"
      ],
      "execution_count": null,
      "outputs": [
        {
          "output_type": "execute_result",
          "data": {
            "image/png": "[encoded data removed]",
            "text/plain": [
              "<IPython.core.display.Image object>"
            ]
          },
          "metadata": {},
          "execution_count": 28
        }
      ]
    },
    {
      "cell_type": "code",
      "metadata": {
        "colab": {
          "base_uri": "https://localhost:8080/"
        },
        "id": "yx4lqPJ5oAd0",
        "outputId": "00873fde-3d2e-4628-b33b-464cdc8fc2be"
      },
      "source": [
        "import sklearn\n",
        "sklearn.metrics.r2_score(y_test, predict)"
      ],
      "execution_count": null,
      "outputs": [
        {
          "output_type": "execute_result",
          "data": {
            "text/plain": [
              "0.6129942951402142"
            ]
          },
          "metadata": {},
          "execution_count": 29
        }
      ]
    },
    {
      "cell_type": "code",
      "metadata": {
        "colab": {
          "base_uri": "https://localhost:8080/"
        },
        "id": "4RSjhr5p3CCO",
        "outputId": "46a49e09-720c-4fd9-c70e-47e18124b0ac"
      },
      "source": [
        "import sklearn\n",
        "sklearn.metrics.mean_absolute_error(y_test, predict)"
      ],
      "execution_count": null,
      "outputs": [
        {
          "output_type": "execute_result",
          "data": {
            "text/plain": [
              "0.018141815983792903"
            ]
          },
          "metadata": {},
          "execution_count": 30
        }
      ]
    },
    {
      "cell_type": "code",
      "metadata": {
        "colab": {
          "base_uri": "https://localhost:8080/"
        },
        "id": "z05F6QJ82aOu",
        "outputId": "cadbd701-d08a-4a6b-c1e1-ab4fa8c7a643"
      },
      "source": [
        "import sklearn\n",
        "sklearn.metrics.mean_squared_error(y_test, predict)"
      ],
      "execution_count": null,
      "outputs": [
        {
          "output_type": "execute_result",
          "data": {
            "text/plain": [
              "0.001101189174190841"
            ]
          },
          "metadata": {},
          "execution_count": 31
        }
      ]
    },
    {
      "cell_type": "markdown",
      "metadata": {
        "id": "HK3rovzS_68D"
      },
      "source": [
        "**Plotting the models for keras sequential using mean average error**"
      ]
    },
    {
      "cell_type": "code",
      "metadata": {
        "colab": {
          "base_uri": "https://localhost:8080/",
          "height": 295
        },
        "id": "A0jAkBrviIAT",
        "outputId": "302673ff-77c6-4c07-bc8b-6598180c98da"
      },
      "source": [
        "plt.plot(history.history['mae'])\n",
        "plt.plot(history.history['val_mae'])\n",
        "plt.title('model MAE')\n",
        "plt.ylabel('MEAN AVG ERROR')\n",
        "plt.xlabel('epoch')\n",
        "plt.legend(['train', 'val'], loc='upper left')\n",
        "plt.show()"
      ],
      "execution_count": null,
      "outputs": [
        {
          "output_type": "display_data",
          "data": {
            "image/png": "[encoded data removed]",
            "text/plain": [
              "<Figure size 432x288 with 1 Axes>"
            ]
          },
          "metadata": {
            "needs_background": "light"
          }
        }
      ]
    },
    {
      "cell_type": "markdown",
      "metadata": {
        "id": "djLnEskHAFGq"
      },
      "source": [
        "**Plotting the models for keras sequential using mean squared error**"
      ]
    },
    {
      "cell_type": "code",
      "metadata": {
        "id": "KeTOdk7bjVNd",
        "colab": {
          "base_uri": "https://localhost:8080/",
          "height": 295
        },
        "outputId": "76f24d34-b624-4cdc-ec87-66811b1ca068"
      },
      "source": [
        "plt.plot(history.history['mse'])\n",
        "plt.plot(history.history['val_mse'])\n",
        "plt.title('model MSE')\n",
        "plt.ylabel('MEAN SQR ERROR')\n",
        "plt.xlabel('epoch')\n",
        "plt.legend(['train', 'val'], loc='upper left')\n",
        "plt.show()"
      ],
      "execution_count": null,
      "outputs": [
        {
          "output_type": "display_data",
          "data": {
            "image/png": "[encoded data removed]",
            "text/plain": [
              "<Figure size 432x288 with 1 Axes>"
            ]
          },
          "metadata": {
            "needs_background": "light"
          }
        }
      ]
    },
    {
      "cell_type": "code",
      "metadata": {
        "id": "m1d0aPGOB_Nb"
      },
      "source": [
        ""
      ],
      "execution_count": null,
      "outputs": []
    }
  ]
}